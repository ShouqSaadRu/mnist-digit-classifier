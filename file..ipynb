{
 "cells": [
  {
   "cell_type": "code",
   "execution_count": 2,
   "metadata": {},
   "outputs": [],
   "source": [
    "import keras\n",
    "\n",
    "from keras.models import Sequential\n",
    "from keras.layers import Dense\n",
    "from keras.layers import Input\n",
    "from keras.utils import to_categorical\n",
    "\n",
    "import matplotlib.pyplot as plt"
   ]
  },
  {
   "cell_type": "code",
   "execution_count": 3,
   "metadata": {},
   "outputs": [],
   "source": [
    "\n",
    "from keras.datasets import mnist\n",
    "\n",
    "\n",
    "(X_train, y_train), (X_test, y_test) = mnist.load_data()"
   ]
  },
  {
   "cell_type": "code",
   "execution_count": 4,
   "metadata": {},
   "outputs": [
    {
     "data": {
      "text/plain": [
       "(60000, 28, 28)"
      ]
     },
     "execution_count": 4,
     "metadata": {},
     "output_type": "execute_result"
    }
   ],
   "source": [
    "X_train.shape"
   ]
  },
  {
   "cell_type": "code",
   "execution_count": 5,
   "metadata": {},
   "outputs": [
    {
     "data": {
      "text/plain": [
       "<matplotlib.image.AxesImage at 0x14fa88be750>"
      ]
     },
     "execution_count": 5,
     "metadata": {},
     "output_type": "execute_result"
    },
    {
     "data": {
      "image/png": "[encoded data removed]",
      "text/plain": [
       "<Figure size 640x480 with 1 Axes>"
      ]
     },
     "metadata": {},
     "output_type": "display_data"
    }
   ],
   "source": [
    "plt.imshow(X_train[0])"
   ]
  },
  {
   "cell_type": "code",
   "execution_count": 6,
   "metadata": {},
   "outputs": [],
   "source": [
    "# flatten images into one-dimensional vector\n",
    "\n",
    "num_pixels = X_train.shape[1] * X_train.shape[2] \n",
    "\n",
    "X_train = X_train.reshape(X_train.shape[0], num_pixels).astype('float32') \n",
    "X_test = X_test.reshape(X_test.shape[0], num_pixels).astype('float32') "
   ]
  },
  {
   "cell_type": "code",
   "execution_count": 7,
   "metadata": {},
   "outputs": [],
   "source": [
    "# normalize inputs from 0-255 to 0-1\n",
    "X_train = X_train / 255\n",
    "X_test = X_test / 255"
   ]
  },
  {
   "cell_type": "code",
   "execution_count": 8,
   "metadata": {},
   "outputs": [
    {
     "name": "stdout",
     "output_type": "stream",
     "text": [
      "10\n"
     ]
    }
   ],
   "source": [
    "# one hot encode outputs\n",
    "y_train = to_categorical(y_train)\n",
    "y_test = to_categorical(y_test)\n",
    "\n",
    "num_classes = y_test.shape[1]\n",
    "print(num_classes)"
   ]
  },
  {
   "cell_type": "code",
   "execution_count": 9,
   "metadata": {},
   "outputs": [],
   "source": [
    "# define classification model\n",
    "def classification_model():\n",
    "    # create model\n",
    "    \n",
    "    model = Sequential()\n",
    "    model.add(Input(shape=(num_pixels,)))\n",
    "    model.add(Dense(num_pixels, activation='relu'))\n",
    "    model.add(Dense(100, activation='relu'))\n",
    "    model.add(Dense(num_classes, activation='softmax'))\n",
    "    \n",
    "    \n",
    "    # compile model\n",
    "    model.compile(optimizer='adam', loss='categorical_crossentropy', metrics=['accuracy'])\n",
    "    return model"
   ]
  },
  {
   "cell_type": "code",
   "execution_count": 10,
   "metadata": {},
   "outputs": [
    {
     "name": "stdout",
     "output_type": "stream",
     "text": [
      "Epoch 1/10\n",
      "1875/1875 - 11s - 6ms/step - accuracy: 0.9439 - loss: 0.1869 - val_accuracy: 0.9685 - val_loss: 0.1047\n",
      "Epoch 2/10\n",
      "1875/1875 - 12s - 7ms/step - accuracy: 0.9755 - loss: 0.0789 - val_accuracy: 0.9717 - val_loss: 0.0909\n",
      "Epoch 3/10\n",
      "1875/1875 - 13s - 7ms/step - accuracy: 0.9832 - loss: 0.0532 - val_accuracy: 0.9799 - val_loss: 0.0668\n",
      "Epoch 4/10\n",
      "1875/1875 - 10s - 5ms/step - accuracy: 0.9873 - loss: 0.0401 - val_accuracy: 0.9804 - val_loss: 0.0639\n",
      "Epoch 5/10\n",
      "1875/1875 - 14s - 8ms/step - accuracy: 0.9904 - loss: 0.0302 - val_accuracy: 0.9796 - val_loss: 0.0732\n",
      "Epoch 6/10\n",
      "1875/1875 - 9s - 5ms/step - accuracy: 0.9919 - loss: 0.0262 - val_accuracy: 0.9807 - val_loss: 0.0814\n",
      "Epoch 7/10\n",
      "1875/1875 - 9s - 5ms/step - accuracy: 0.9930 - loss: 0.0217 - val_accuracy: 0.9800 - val_loss: 0.0872\n",
      "Epoch 8/10\n",
      "1875/1875 - 10s - 5ms/step - accuracy: 0.9934 - loss: 0.0204 - val_accuracy: 0.9787 - val_loss: 0.0950\n",
      "Epoch 9/10\n",
      "1875/1875 - 14s - 8ms/step - accuracy: 0.9938 - loss: 0.0180 - val_accuracy: 0.9820 - val_loss: 0.0873\n",
      "Epoch 10/10\n",
      "1875/1875 - 17s - 9ms/step - accuracy: 0.9955 - loss: 0.0146 - val_accuracy: 0.9737 - val_loss: 0.1241\n"
     ]
    }
   ],
   "source": [
    "#it takes time\n",
    "model = classification_model()\n",
    "\n",
    "\n",
    "model.fit(X_train, y_train, validation_data=(X_test, y_test), epochs=10, verbose=2)\n",
    "\n",
    "\n",
    "scores = model.evaluate(X_test, y_test, verbose=0) "
   ]
  },
  {
   "cell_type": "code",
   "execution_count": 11,
   "metadata": {},
   "outputs": [
    {
     "name": "stdout",
     "output_type": "stream",
     "text": [
      "Accuracy: 0.9736999869346619% \n",
      " Error: 0.026300013065338135\n"
     ]
    }
   ],
   "source": [
    "print('Accuracy: {}% \\n Error: {}'.format(scores[1], 1 - scores[1]))      "
   ]
  },
  {
   "cell_type": "code",
   "execution_count": 12,
   "metadata": {},
   "outputs": [],
   "source": [
    "model.save('classification_model.keras')"
   ]
  },
  {
   "cell_type": "code",
   "execution_count": null,
   "metadata": {},
   "outputs": [],
   "source": [
    "#pretrained_model = keras.saving.load_model('classification_model.keras')"
   ]
  },
  {
   "cell_type": "code",
   "execution_count": 13,
   "metadata": {},
   "outputs": [],
   "source": [
    "from PIL import Image\n",
    "import numpy as np\n"
   ]
  },
  {
   "cell_type": "code",
   "execution_count": 25,
   "metadata": {},
   "outputs": [],
   "source": [
    "def preprocess_custom_image(image_path):\n",
    "    # Load and convert to grayscale\n",
    "    img = Image.open(image_path).convert('L') \n",
    "    \n",
    "    img = img.resize((28, 28))\n",
    "   \n",
    "    img_array = np.array(img)\n",
    "   \n",
    "    img_array = 255 - img_array\n",
    "    \n",
    "    # Normalize pixel values to [0, 1]\n",
    "    img_array = img_array / 255.0\n",
    "    \n",
    "    # Flatten to match model input shape\n",
    "    img_array = img_array.reshape(1, -1)  # Shape: (1, 784)\n",
    "    \n",
    "    return img_array\n"
   ]
  },
  {
   "cell_type": "code",
   "execution_count": 28,
   "metadata": {},
   "outputs": [
    {
     "name": "stdout",
     "output_type": "stream",
     "text": [
      "\u001b[1m1/1\u001b[0m \u001b[32m━━━━━━━━━━━━━━━━━━━━\u001b[0m\u001b[37m\u001b[0m \u001b[1m0s\u001b[0m 41ms/step\n",
      "The model predicts the digit is: 5\n"
     ]
    }
   ],
   "source": [
    "\n",
    "image_path = \"555.png\"\n",
    "custom_image = preprocess_custom_image(image_path)\n",
    "\n",
    "prediction = model.predict(custom_image)\n",
    "predicted_class = np.argmax(prediction)\n",
    "\n",
    "print(f\"The model predicts the digit is: {predicted_class}\")\n"
   ]
  },
  {
   "cell_type": "code",
   "execution_count": 29,
   "metadata": {},
   "outputs": [
    {
     "data": {
      "image/png": "[encoded data removed]",
      "text/plain": [
       "<Figure size 640x480 with 1 Axes>"
      ]
     },
     "metadata": {},
     "output_type": "display_data"
    }
   ],
   "source": [
    "plt.imshow(custom_image.reshape(28, 28), cmap='gray')\n",
    "plt.title(\"Preprocessed Image\")\n",
    "plt.show()\n"
   ]
  }
 ],
 "metadata": {
  "kernelspec": {
   "display_name": "Python 3",
   "language": "python",
   "name": "python3"
  },
  "language_info": {
   "codemirror_mode": {
    "name": "ipython",
    "version": 3
   },
   "file_extension": ".py",
   "mimetype": "text/x-python",
   "name": "python",
   "nbconvert_exporter": "python",
   "pygments_lexer": "ipython3",
   "version": "3.12.5"
  }
 },
 "nbformat": 4,
 "nbformat_minor": 2
}
